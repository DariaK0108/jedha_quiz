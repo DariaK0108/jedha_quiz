{
 "cells": [
  {
   "cell_type": "markdown",
   "metadata": {},
   "source": [
    "# Build a quizz"
   ]
  },
  {
   "cell_type": "markdown",
   "metadata": {},
   "source": [
    "1. Ask a question to a user via the console \n",
    "\n",
    "2. Verify whether the answer is correct or not \n",
    "\n",
    "3. If the answer is correct, you should print out: `Good job! This is the right answer`\n",
    "\n",
    " Else, it should print out : `Too bad! that is not the correct answer!`\n",
    " We would like to ask again the same question if the answer was wrong.\n",
    "\n",
    "4. Ask three questions following this model.\n",
    "\n",
    "5. If the user makes 3 wrong answers, the program should stop and print (\"Too bad, you lost the game !\")\n",
    "\n"
   ]
  },
  {
   "cell_type": "code",
   "execution_count": 1,
   "metadata": {},
   "outputs": [],
   "source": [
    "quiz_contenu = [\n",
    "    (\"Combien de fois la France a gagné la coupe du monde ? \", \"2\"),\n",
    "    (\"Quand a été fondé Apple ? \", \"1976\"),\n",
    "    (\"Qui a fondé SpaceX ? \", \"elon musk\"),    \n",
    "]\n",
    "    \n",
    "\n",
    "def quiz(nb_de_chances,quiz_contenu):\n",
    "\n",
    "    print(\"Voici notre quiz, tu as trois chances !\")\n",
    "    \n",
    "    nombre_questions = len(quiz_contenu)\n",
    "    \n",
    "    for element in quiz_contenu:\n",
    "        question, correcte_reponse = element\n",
    "        \n",
    "        if nb_de_chances > 0:\n",
    "            reponse = input(question).lower()\n",
    "            while reponse != correcte_reponse:\n",
    "                nb_de_chances -= 1\n",
    "                print(\"Dommage ! Il te reste {} chances\".format(nb_de_chances))\n",
    "                if nb_de_chances == 0:\n",
    "                    print(\"Oh non ! Tu as perdu le jeu...\")\n",
    "                    break\n",
    "                reponse = input(question).lower()\n",
    "\n",
    "\n",
    "    if nb_de_chances > 0:\n",
    "        print(\"Bravo ! Tu as gagné le quiz !\")"
   ]
  },
  {
   "cell_type": "code",
   "execution_count": 2,
   "metadata": {},
   "outputs": [
    {
     "name": "stdout",
     "output_type": "stream",
     "text": [
      "Voici notre quiz, tu as trois chances !\n",
      "Combien de fois la France a gagné la coupe du monde ? 2\n",
      "Quand a été fondé Apple ? 1976\n",
      "Qui a fondé SpaceX ? elon musk\n",
      "Bravo ! Tu as gagné le quiz !\n"
     ]
    }
   ],
   "source": [
    "quiz(3,quiz_contenu)"
   ]
  },
  {
   "cell_type": "code",
   "execution_count": null,
   "metadata": {},
   "outputs": [],
   "source": []
  }
 ],
 "metadata": {
  "kernelspec": {
   "display_name": "Python 3",
   "language": "python",
   "name": "python3"
  },
  "language_info": {
   "codemirror_mode": {
    "name": "ipython",
    "version": 3
   },
   "file_extension": ".py",
   "mimetype": "text/x-python",
   "name": "python",
   "nbconvert_exporter": "python",
   "pygments_lexer": "ipython3",
   "version": "3.7.1"
  }
 },
 "nbformat": 4,
 "nbformat_minor": 4
}
